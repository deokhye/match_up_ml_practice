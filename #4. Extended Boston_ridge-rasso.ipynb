{
 "cells": [
  {
   "cell_type": "code",
   "execution_count": 2,
   "metadata": {},
   "outputs": [],
   "source": [
    "# !pip install mglearn\n",
    "\n",
    "import matplotlib.pyplot as plt\n",
    "import mglearn"
   ]
  },
  {
   "cell_type": "code",
   "execution_count": 5,
   "metadata": {},
   "outputs": [
    {
     "name": "stdout",
     "output_type": "stream",
     "text": [
      "X.shape:(506, 104)\n",
      "train_score:0.89\n",
      "test_score:0.75\n"
     ]
    }
   ],
   "source": [
    "# ridge(l2-norm)\n",
    "X, y = mglearn.datasets.load_extended_boston()\n",
    "print(\"X.shape:{}\".format(X.shape))\n",
    "\n",
    "from sklearn.model_selection import train_test_split\n",
    "from sklearn.linear_model import Ridge\n",
    "\n",
    "ridge = Ridge().fit(X_train, y_train)\n",
    "print(\"train_score:{:.2f}\".format(ridge.score(X_train, y_train)))\n",
    "print(\"test_score:{:.2f}\".format(ridge.score(X_test, y_test)))"
   ]
  },
  {
   "cell_type": "code",
   "execution_count": 8,
   "metadata": {},
   "outputs": [
    {
     "name": "stdout",
     "output_type": "stream",
     "text": [
      "knn_train_score:0.90\n",
      "knn_test_score:0.61\n",
      "\n",
      "lr_train_score:0.95\n",
      "lr_test_score:0.61\n"
     ]
    }
   ],
   "source": [
    "# knn regression & linear regression과 비교\n",
    "from sklearn.neighbors import KNeighborsRegressor\n",
    "knn = KNeighborsRegressor(n_neighbors = 3).fit(X_train, y_train)\n",
    "print(\"knn_train_score:{:.2f}\".format(knn.score(X_train, y_train)))\n",
    "print(\"knn_test_score:{:.2f}\\n\".format(knn.score(X_test, y_test)))\n",
    "\n",
    "from sklearn.linear_model import LinearRegression\n",
    "lr = LinearRegression().fit(X_train, y_train)\n",
    "print(\"lr_train_score:{:.2f}\".format(lr.score(X_train, y_train)))\n",
    "print(\"lr_test_score:{:.2f}\".format(lr.score(X_test, y_test)))"
   ]
  },
  {
   "cell_type": "code",
   "execution_count": 9,
   "metadata": {},
   "outputs": [
    {
     "name": "stdout",
     "output_type": "stream",
     "text": [
      "train_score: 0.29\n",
      "test_score: 0.21\n",
      "the number of char: 4\n"
     ]
    }
   ],
   "source": [
    "# lasso(l1-norm)\n",
    "import numpy as np\n",
    "from sklearn.linear_model import Lasso\n",
    "\n",
    "# alpha = 1\n",
    "lasso = Lasso().fit(X_train, y_train)\n",
    "print(\"train_score: {:.2f}\".format(lasso.score(X_train, y_train)))\n",
    "print(\"test_score: {:.2f}\". format(lasso.score(X_test, y_test)))\n",
    "print(\"the number of char: {}\".format(np.sum(lasso.coef_ != 0)))"
   ]
  },
  {
   "cell_type": "code",
   "execution_count": 10,
   "metadata": {},
   "outputs": [
    {
     "name": "stdout",
     "output_type": "stream",
     "text": [
      "train_score: 0.90\n",
      "test_score: 0.77\n",
      "the number of char: 33\n"
     ]
    }
   ],
   "source": [
    "# alpha = 0.01\n",
    "lasso001 = Lasso(alpha = 0.01, max_iter = 100000).fit(X_train, y_train)\n",
    "print(\"train_score: {:.2f}\".format(lasso001.score(X_train, y_train)))\n",
    "print(\"test_score: {:.2f}\". format(lasso001.score(X_test, y_test)))\n",
    "print(\"the number of char: {}\".format(np.sum(lasso001.coef_ != 0)))"
   ]
  },
  {
   "cell_type": "code",
   "execution_count": 11,
   "metadata": {},
   "outputs": [
    {
     "name": "stdout",
     "output_type": "stream",
     "text": [
      "train_score: 0.95\n",
      "test_score: 0.64\n",
      "the number of char: 96\n"
     ]
    }
   ],
   "source": [
    "# alpha = 0.0001\n",
    "lasso00001 = Lasso(alpha = 0.0001, max_iter = 100000).fit(X_train, y_train)\n",
    "print(\"train_score: {:.2f}\".format(lasso00001.score(X_train, y_train)))\n",
    "print(\"test_score: {:.2f}\". format(lasso00001.score(X_test, y_test)))\n",
    "print(\"the number of char: {}\".format(np.sum(lasso00001.coef_ != 0)))"
   ]
  },
  {
   "cell_type": "code",
   "execution_count": 15,
   "metadata": {},
   "outputs": [
    {
     "data": {
      "text/plain": [
       "(-25.0, 25.0)"
      ]
     },
     "execution_count": 15,
     "metadata": {},
     "output_type": "execute_result"
    },
    {
     "data": {
      "image/png": "[encoded data removed]",
      "text/plain": [
       "<Figure size 432x288 with 1 Axes>"
      ]
     },
     "metadata": {
      "needs_background": "light"
     },
     "output_type": "display_data"
    }
   ],
   "source": [
    "# plot 비교\n",
    "plt.plot(lasso.coef_, 's', label= 'Lasso alpha = 1')\n",
    "plt.plot(lasso001.coef_, '^', label = 'Lasso alpha = 0.01')\n",
    "plt.plot(lasso00001.coef_, 'v', label = 'Lasso alpha = 0.0001')\n",
    "\n",
    "plt.legend(ncol = 2, loc=(0, 1.05))\n",
    "plt.ylim(-25, 25)"
   ]
  }
 ],
 "metadata": {
  "kernelspec": {
   "display_name": "Python 3",
   "language": "python",
   "name": "python3"
  },
  "language_info": {
   "codemirror_mode": {
    "name": "ipython",
    "version": 3
   },
   "file_extension": ".py",
   "mimetype": "text/x-python",
   "name": "python",
   "nbconvert_exporter": "python",
   "pygments_lexer": "ipython3",
   "version": "3.8.5"
  }
 },
 "nbformat": 4,
 "nbformat_minor": 4
}
